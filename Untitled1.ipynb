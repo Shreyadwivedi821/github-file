{
 "cells": [
  {
   "cell_type": "code",
   "execution_count": 1,
   "id": "d5bd0ad0-12ef-4c23-bb46-06f172e3310a",
   "metadata": {},
   "outputs": [
    {
     "name": "stdout",
     "output_type": "stream",
     "text": [
      "Hello\n"
     ]
    }
   ],
   "source": [
    "print(\"Hello\")"
   ]
  },
  {
   "cell_type": "code",
   "execution_count": 2,
   "id": "1c2722d2-f7d8-4eba-bdf3-3b39715e6455",
   "metadata": {},
   "outputs": [
    {
     "name": "stdout",
     "output_type": "stream",
     "text": [
      "hello India\n"
     ]
    }
   ],
   "source": [
    "print(\"hello India\")"
   ]
  },
  {
   "cell_type": "code",
   "execution_count": null,
   "id": "2b1175de-67c9-467a-bcc8-3281ff67f9c5",
   "metadata": {},
   "outputs": [],
   "source": []
  }
 ],
 "metadata": {
  "kernelspec": {
   "display_name": "Python 3 (ipykernel)",
   "language": "python",
   "name": "python3"
  },
  "language_info": {
   "codemirror_mode": {
    "name": "ipython",
    "version": 3
   },
   "file_extension": ".py",
   "mimetype": "text/x-python",
   "name": "python",
   "nbconvert_exporter": "python",
   "pygments_lexer": "ipython3",
   "version": "3.13.5"
  }
 },
 "nbformat": 4,
 "nbformat_minor": 5
}
