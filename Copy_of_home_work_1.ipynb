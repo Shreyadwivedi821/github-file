{
  "nbformat": 4,
  "nbformat_minor": 0,
  "metadata": {
    "colab": {
      "provenance": []
    },
    "kernelspec": {
      "name": "python3",
      "display_name": "Python 3"
    },
    "language_info": {
      "name": "python"
    }
  },
  "cells": [
    {
      "cell_type": "code",
      "execution_count": null,
      "metadata": {
        "id": "oi3jCCoxYKeB"
      },
      "outputs": [],
      "source": []
    },
    {
      "cell_type": "markdown",
      "source": [
        "1. What is Python, and why is it popular ?\n",
        "   \n",
        "   -> Python is a high level programming language. It is very easy for use, reliable and adaptable.\n",
        "2. What is an interpreter in Python ?\n",
        "  \n",
        "   ->  Intrepreter in Python program that reads Python code and executes it line by line.\n",
        "3. What are pre-defined keywords in Python ?\n",
        "   \n",
        "   -> Built-in functions are the pre-defined function in Python.\n",
        "   i.e. string, boolian, integer\n",
        "4. Can keywords be used as variable names ?\n",
        "   -> No\n",
        "5. What is mutability in Python ?\n",
        "   \n",
        "   -> Whether an object's state or content can be changed after it has been created are called mutability in Python.\n",
        "6. Why are lists mutable, but tuples are immutable ?\n",
        "  \n",
        "   -> Tuples are immutable, meaning that once a tuple has been created, you can't replace any of its elements with a new value. Lists are mutable, meaning that you can always change a list's elements. Only immutable elements can be used as dictionary keys, and hence only tuples and not lists can be used as keys.\n",
        "7. What is the difference between “==” and “is” operators in Python ?\n",
        "   \n",
        "   -> == (Equality Operator): This operator compares the values of two objects. It evaluates whether the content or state of the objects are the same.\n",
        "   . is (Identity Operator): This operator compares the identity of two objects. It checks whether two variables refer to the exact same object in memory.\n",
        "8. What are logical operators in Python ?\n",
        "  \n",
        "   -> Logical operators in Python are used to combine conditional statements and evaluate expressions based on Boolean logic. They return a Boolean value (True or False) as a result.\n",
        "9. What is type casting in Python ?\n",
        "  \n",
        "   -> Type casting, also known as type conversion, is the process of converting one data type into another. Ex: you want to change the data type of a variable from an integer 2 to a float 2.0. This is a case where you'd use type casting.\n",
        "10. What is the difference between implicit and explicit type casting ?\n",
        "    \n",
        "    -> When you use explicit typing, you are telling TypeScript exactly what type you expect the variable to be, and TypeScript will enforce that type throughout your code. Implicit typing, on the other hand, allows TypeScript to infer the type of a variable based on its initialization value.\n",
        "11. What is the purpose of conditional statements in Python ?\n",
        "    \n",
        "    -> Conditional statements in Python are used to execute certain blocks of code based on specific conditions. These statements help control the flow of a program.\n",
        "12. How does the elif statement work ?\n",
        "    \n",
        "    -> It is used to test multiple conditions sequentially after an initial “if” statement\n",
        "13. What is the difference between for and while loops ?\n",
        "    \n",
        "    -> The main difference between for and while loops lies in their intended use cases: for loops are typically used when the number of iterations is known beforehand, while while loops are used when the number of iterations is not predetermined and depends on a condition.\n",
        "14. Describe a scenario where a while loop is more suitable than a for loop?\n",
        "    \n",
        "    -> For loops are designed for iterating over a sequence of items. Eg. list, tuple, etc.\n",
        "    . While loop is used when the number of iterations is not known in advance or when we want to repeat a block of code until a certain condition is met.\n"
      ],
      "metadata": {
        "id": "2m42qACTYMbg"
      }
    },
    {
      "cell_type": "markdown",
      "source": [],
      "metadata": {
        "id": "AZ5OrtXhacRf"
      }
    },
    {
      "cell_type": "markdown",
      "source": [],
      "metadata": {
        "id": "MeKDGTdYag2U"
      }
    }
  ]
}